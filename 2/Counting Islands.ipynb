{
 "cells": [
  {
   "cell_type": "markdown",
   "id": "82bb2cdd",
   "metadata": {},
   "source": [
    "2. You have a matrix MxN that represents a map. There are 2 possible states on the map: 1 - islands, 0 - ocean. Your task is to calculate the number of islands in the most effective way."
   ]
  },
  {
   "cell_type": "code",
   "execution_count": 1,
   "id": "66584359",
   "metadata": {},
   "outputs": [],
   "source": [
    "import re"
   ]
  },
  {
   "cell_type": "code",
   "execution_count": 2,
   "id": "65739683",
   "metadata": {},
   "outputs": [],
   "source": [
    "def input_M_N(M_N):\n",
    "  M_N_try = input(f'Please, enter {M_N}: ')\n",
    "\n",
    "  if bool(re.match('^[1-9]+$', M_N_try)):\n",
    "      return int(M_N_try)\n",
    "  else: return input_M_N(M_N)"
   ]
  },
  {
   "cell_type": "code",
   "execution_count": 3,
   "id": "76f7a82a",
   "metadata": {},
   "outputs": [
    {
     "name": "stdout",
     "output_type": "stream",
     "text": [
      "Please, enter M, number of rows: 4\n",
      "Please, enter N, number of columns: 4\n"
     ]
    }
   ],
   "source": [
    "Row = input_M_N('M, number of rows')\n",
    "Column = input_M_N('N, number of columns')"
   ]
  },
  {
   "cell_type": "code",
   "execution_count": 4,
   "id": "d4f2b91a",
   "metadata": {},
   "outputs": [],
   "source": [
    "def check_input_ones_and_zeroes():\n",
    "  inp = input('Please, enter 0 - ocean or 1 - island: ')\n",
    "  if bool(re.match('^1$', inp)) or bool(re.match('^0$', inp)):\n",
    "    return int(inp)\n",
    "  else: return check_input_ones_and_zeroes()"
   ]
  },
  {
   "cell_type": "code",
   "execution_count": 5,
   "id": "f8186650",
   "metadata": {},
   "outputs": [
    {
     "name": "stdout",
     "output_type": "stream",
     "text": [
      "Fill the matrix:\n",
      "Cell position: (0, 0)\n",
      "Please, enter 0 - ocean or 1 - island: 1\n",
      "Cell position: (0, 1)\n",
      "Please, enter 0 - ocean or 1 - island: 1\n",
      "Cell position: (0, 2)\n",
      "Please, enter 0 - ocean or 1 - island: 0\n",
      "Cell position: (0, 3)\n",
      "Please, enter 0 - ocean or 1 - island: 1\n",
      "Cell position: (1, 0)\n",
      "Please, enter 0 - ocean or 1 - island: 0\n",
      "Cell position: (1, 1)\n",
      "Please, enter 0 - ocean or 1 - island: 0\n",
      "Cell position: (1, 2)\n",
      "Please, enter 0 - ocean or 1 - island: 1\n",
      "Cell position: (1, 3)\n",
      "Please, enter 0 - ocean or 1 - island: 1\n",
      "Cell position: (2, 0)\n",
      "Please, enter 0 - ocean or 1 - island: 0\n",
      "Cell position: (2, 1)\n",
      "Please, enter 0 - ocean or 1 - island: 0\n",
      "Cell position: (2, 2)\n",
      "Please, enter 0 - ocean or 1 - island: 0\n",
      "Cell position: (2, 3)\n",
      "Please, enter 0 - ocean or 1 - island: 0\n",
      "Cell position: (3, 0)\n",
      "Please, enter 0 - ocean or 1 - island: 1\n",
      "Cell position: (3, 1)\n",
      "Please, enter 0 - ocean or 1 - island: 0\n",
      "Cell position: (3, 2)\n",
      "Please, enter 0 - ocean or 1 - island: 1\n",
      "Cell position: (3, 3)\n",
      "Please, enter 0 - ocean or 1 - island: 0\n",
      "\n",
      "Your matrix:\n",
      "1 1 0 1 \n",
      "0 0 1 1 \n",
      "0 0 0 0 \n",
      "1 0 1 0 \n"
     ]
    }
   ],
   "source": [
    "matrix = []\n",
    "print('Fill the matrix:')\n",
    " \n",
    "for row in range(Row):   \n",
    "    a = []\n",
    "    for column in range(Column):  \n",
    "        print(f'Cell position: {row, column}')\n",
    "        a.append(check_input_ones_and_zeroes())\n",
    "    matrix.append(a)\n",
    "\n",
    "print('\\nYour matrix:')\n",
    "for row in range(Row):\n",
    "    for column in range(Column):\n",
    "        print(matrix[row][column], end=\" \")\n",
    "    print()"
   ]
  },
  {
   "cell_type": "code",
   "execution_count": 6,
   "id": "e2c6b37a",
   "metadata": {},
   "outputs": [],
   "source": [
    "def count_islands(matrix, Row, Column):\n",
    "    if not matrix or not matrix[0]:\n",
    "        return 0\n",
    "\n",
    "    visited = set()\n",
    "    count = 0\n",
    "\n",
    "    def explore(i, j):\n",
    "        if i < 0 or i >= Row or j < 0 or j >= Column or matrix[i][j] == 0 or (i, j) in visited:\n",
    "            return\n",
    "\n",
    "        visited.add((i, j))\n",
    "        explore(i - 1, j)\n",
    "        explore(i + 1, j)\n",
    "        explore(i, j - 1)\n",
    "        explore(i, j + 1)\n",
    "\n",
    "    for i in range(Row):\n",
    "        for j in range(Column):\n",
    "            if matrix[i][j] == 1 and (i, j) not in visited:\n",
    "                explore(i, j)\n",
    "                count += 1\n",
    "    return count"
   ]
  },
  {
   "cell_type": "code",
   "execution_count": 7,
   "id": "b0374174",
   "metadata": {},
   "outputs": [
    {
     "name": "stdout",
     "output_type": "stream",
     "text": [
      "The number of islands is: 4\n"
     ]
    }
   ],
   "source": [
    "print(f'The number of islands is: {count_islands(matrix, Row, Column)}')"
   ]
  }
 ],
 "metadata": {
  "kernelspec": {
   "display_name": "Python 3 (ipykernel)",
   "language": "python",
   "name": "python3"
  },
  "language_info": {
   "codemirror_mode": {
    "name": "ipython",
    "version": 3
   },
   "file_extension": ".py",
   "mimetype": "text/x-python",
   "name": "python",
   "nbconvert_exporter": "python",
   "pygments_lexer": "ipython3",
   "version": "3.10.1"
  }
 },
 "nbformat": 4,
 "nbformat_minor": 5
}
