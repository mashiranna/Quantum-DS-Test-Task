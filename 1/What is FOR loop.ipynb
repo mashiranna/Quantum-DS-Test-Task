{
 "cells": [
  {
   "cell_type": "markdown",
   "id": "91bbe74e",
   "metadata": {},
   "source": [
    "1. You have a positive integer number N as an input. Please write a program in Python 3 that calculates the sum in range 1 and N. Limitations: N <= 10^25; Execution time: 0.1 seconds."
   ]
  },
  {
   "cell_type": "code",
   "execution_count": 1,
   "id": "7d3ce92c",
   "metadata": {},
   "outputs": [],
   "source": [
    "from timeit import default_timer as timer\n",
    "import re"
   ]
  },
  {
   "cell_type": "code",
   "execution_count": 2,
   "id": "3acc224e",
   "metadata": {},
   "outputs": [],
   "source": [
    "def input_N():\n",
    "  N_try = input('Please, enter a positive integer N: ')\n",
    "\n",
    "  if bool(re.match('^[1-9]+$', N_try)) and (int(N_try) <= 10**25):\n",
    "      return int(N_try)\n",
    "  else: return input_N()"
   ]
  },
  {
   "cell_type": "code",
   "execution_count": 3,
   "id": "44321228",
   "metadata": {},
   "outputs": [
    {
     "name": "stdout",
     "output_type": "stream",
     "text": [
      "Please, enter a positive integer N: 342567345\n"
     ]
    }
   ],
   "source": [
    "N = input_N()"
   ]
  },
  {
   "cell_type": "code",
   "execution_count": 4,
   "id": "ac19b1c9",
   "metadata": {},
   "outputs": [],
   "source": [
    "def calc_sum(N):\n",
    "  start = timer()\n",
    "  result = (1 + N) * (N/2)\n",
    "  end = timer()\n",
    "  print(f\"Execution time: {end - start} s\")\n",
    "  return int(result)"
   ]
  },
  {
   "cell_type": "code",
   "execution_count": 5,
   "id": "dcb99434",
   "metadata": {},
   "outputs": [
    {
     "name": "stdout",
     "output_type": "stream",
     "text": [
      "Execution time: 1.1000010999850929e-06 s\n",
      "Sum in range from 1 to 342567345 is 58676193101458184\n"
     ]
    }
   ],
   "source": [
    "print(f\"Sum in range from 1 to {N} is {calc_sum(N)}\")"
   ]
  }
 ],
 "metadata": {
  "kernelspec": {
   "display_name": "Python 3 (ipykernel)",
   "language": "python",
   "name": "python3"
  },
  "language_info": {
   "codemirror_mode": {
    "name": "ipython",
    "version": 3
   },
   "file_extension": ".py",
   "mimetype": "text/x-python",
   "name": "python",
   "nbconvert_exporter": "python",
   "pygments_lexer": "ipython3",
   "version": "3.10.1"
  }
 },
 "nbformat": 4,
 "nbformat_minor": 5
}
